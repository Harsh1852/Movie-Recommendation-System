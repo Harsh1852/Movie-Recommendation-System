{
 "cells": [
  {
   "cell_type": "code",
   "execution_count": 1,
   "id": "e9ba49a2",
   "metadata": {},
   "outputs": [],
   "source": [
    "import numpy as np\n",
    "import pandas as pd"
   ]
  },
  {
   "cell_type": "code",
   "execution_count": 2,
   "id": "d7ddeb96",
   "metadata": {},
   "outputs": [],
   "source": [
    "credits_df = pd.read_csv(\"credits.csv\")\n",
    "movies_df = pd.read_csv(\"movies.csv\")"
   ]
  },
  {
   "cell_type": "code",
   "execution_count": 3,
   "id": "19f1e795",
   "metadata": {},
   "outputs": [],
   "source": [
    "pd.set_option(\"display.max_columns\",None)\n",
    "pd.set_option(\"display.max_rows\",None)"
   ]
  },
  {
   "cell_type": "code",
   "execution_count": 4,
   "id": "149bee5c",
   "metadata": {},
   "outputs": [],
   "source": [
    "movies_df=movies_df.merge(credits_df,on=\"title\")"
   ]
  },
  {
   "cell_type": "code",
   "execution_count": 5,
   "id": "27d91092",
   "metadata": {},
   "outputs": [
    {
     "data": {
      "text/plain": [
       "(4808, 23)"
      ]
     },
     "execution_count": 5,
     "metadata": {},
     "output_type": "execute_result"
    }
   ],
   "source": [
    "movies_df.shape"
   ]
  },
  {
   "cell_type": "code",
   "execution_count": 6,
   "id": "36229da1",
   "metadata": {},
   "outputs": [],
   "source": [
    "movies_df=movies_df[['movie_id','title','overview','genres','keywords','cast','crew']]"
   ]
  },
  {
   "cell_type": "code",
   "execution_count": 7,
   "id": "991c71e3",
   "metadata": {},
   "outputs": [
    {
     "data": {
      "text/plain": [
       "movie_id    0\n",
       "title       0\n",
       "overview    3\n",
       "genres      0\n",
       "keywords    0\n",
       "cast        0\n",
       "crew        0\n",
       "dtype: int64"
      ]
     },
     "execution_count": 7,
     "metadata": {},
     "output_type": "execute_result"
    }
   ],
   "source": [
    "movies_df.isnull().sum()"
   ]
  },
  {
   "cell_type": "code",
   "execution_count": 8,
   "id": "430147a4",
   "metadata": {},
   "outputs": [],
   "source": [
    "movies_df.dropna(inplace=True)"
   ]
  },
  {
   "cell_type": "code",
   "execution_count": 9,
   "id": "339a69bf",
   "metadata": {},
   "outputs": [
    {
     "data": {
      "text/plain": [
       "0"
      ]
     },
     "execution_count": 9,
     "metadata": {},
     "output_type": "execute_result"
    }
   ],
   "source": [
    "movies_df.duplicated().sum()"
   ]
  },
  {
   "cell_type": "code",
   "execution_count": 10,
   "id": "0037e6b6",
   "metadata": {},
   "outputs": [
    {
     "data": {
      "text/plain": [
       "'[{\"id\": 28, \"name\": \"Action\"}, {\"id\": 12, \"name\": \"Adventure\"}, {\"id\": 14, \"name\": \"Fantasy\"}, {\"id\": 878, \"name\": \"Science Fiction\"}]'"
      ]
     },
     "execution_count": 10,
     "metadata": {},
     "output_type": "execute_result"
    }
   ],
   "source": [
    "movies_df.iloc[0].genres"
   ]
  },
  {
   "cell_type": "code",
   "execution_count": 11,
   "id": "6f9b64b1",
   "metadata": {},
   "outputs": [],
   "source": [
    "import ast"
   ]
  },
  {
   "cell_type": "code",
   "execution_count": 12,
   "id": "98ae714a",
   "metadata": {},
   "outputs": [],
   "source": [
    "def convert(obj):\n",
    "    L = []\n",
    "    if isinstance(obj, list):\n",
    "        L = obj\n",
    "    else:\n",
    "        for i in ast.literal_eval(obj):\n",
    "            L.append(i['name'])\n",
    "    return L"
   ]
  },
  {
   "cell_type": "code",
   "execution_count": 13,
   "id": "04d3c47f",
   "metadata": {},
   "outputs": [],
   "source": [
    "movies_df[\"genres\"]=movies_df[\"genres\"].apply(convert)\n",
    "movies_df[\"keywords\"]=movies_df[\"keywords\"].apply(convert)"
   ]
  },
  {
   "cell_type": "code",
   "execution_count": 14,
   "id": "76630448",
   "metadata": {},
   "outputs": [],
   "source": [
    "def convert3(obj):\n",
    "    L=[]\n",
    "    counter=0\n",
    "    for i in ast.literal_eval(obj):\n",
    "        if counter!=3:\n",
    "            L.append(i['name'])\n",
    "            counter+=1\n",
    "        else:\n",
    "            break;\n",
    "    return L"
   ]
  },
  {
   "cell_type": "code",
   "execution_count": 15,
   "id": "5be8b1b5",
   "metadata": {},
   "outputs": [],
   "source": [
    "movies_df['cast']=movies_df['cast'].apply(convert3)"
   ]
  },
  {
   "cell_type": "code",
   "execution_count": 16,
   "id": "60d80bbf",
   "metadata": {},
   "outputs": [],
   "source": [
    "def fetch_director(obj):\n",
    "    L=[]\n",
    "    for i in ast.literal_eval(obj):\n",
    "        if i['job']==\"Director\":\n",
    "            L.append(i['name'])\n",
    "    return L"
   ]
  },
  {
   "cell_type": "code",
   "execution_count": 17,
   "id": "802ae075",
   "metadata": {},
   "outputs": [],
   "source": [
    "movies_df['crew']=movies_df['crew'].apply(fetch_director)"
   ]
  },
  {
   "cell_type": "code",
   "execution_count": 18,
   "id": "97ce1909",
   "metadata": {},
   "outputs": [
    {
     "data": {
      "text/plain": [
       "'In the 22nd century, a paraplegic Marine is dispatched to the moon Pandora on a unique mission, but becomes torn between following orders and protecting an alien civilization.'"
      ]
     },
     "execution_count": 18,
     "metadata": {},
     "output_type": "execute_result"
    }
   ],
   "source": [
    "movies_df['overview'][0]"
   ]
  },
  {
   "cell_type": "code",
   "execution_count": 19,
   "id": "9dcf34c5",
   "metadata": {},
   "outputs": [],
   "source": [
    "movies_df['overview'] = movies_df['overview'].apply(lambda x: x.split() if isinstance(x, str) else x)"
   ]
  },
  {
   "cell_type": "code",
   "execution_count": 20,
   "id": "7f996ee2",
   "metadata": {},
   "outputs": [],
   "source": [
    "movies_df['genres']=movies_df['genres'].apply(lambda x:[i.replace(\" \",\"_\") for i in x])\n",
    "movies_df['keywords']=movies_df['keywords'].apply(lambda x:[i.replace(\" \",\"_\") for i in x])\n",
    "movies_df['cast']=movies_df['cast'].apply(lambda x:[i.replace(\" \",\"_\") for i in x])\n",
    "movies_df['crew']=movies_df['crew'].apply(lambda x:[i.replace(\" \",\"_\") for i in x])"
   ]
  },
  {
   "cell_type": "code",
   "execution_count": 21,
   "id": "66160da0",
   "metadata": {},
   "outputs": [],
   "source": [
    "movies_df['tags']=movies_df['overview']+movies_df['genres']+movies_df['keywords']+movies_df['cast']+movies_df['crew']"
   ]
  },
  {
   "cell_type": "code",
   "execution_count": 22,
   "id": "21a6ecbb",
   "metadata": {},
   "outputs": [],
   "source": [
    "new_df = movies_df[['movie_id','title','tags']]"
   ]
  },
  {
   "cell_type": "code",
   "execution_count": 23,
   "id": "aada0899",
   "metadata": {},
   "outputs": [
    {
     "name": "stderr",
     "output_type": "stream",
     "text": [
      "C:\\Users\\Harsh Sharma\\AppData\\Local\\Temp\\ipykernel_14180\\218205508.py:1: SettingWithCopyWarning: \n",
      "A value is trying to be set on a copy of a slice from a DataFrame.\n",
      "Try using .loc[row_indexer,col_indexer] = value instead\n",
      "\n",
      "See the caveats in the documentation: https://pandas.pydata.org/pandas-docs/stable/user_guide/indexing.html#returning-a-view-versus-a-copy\n",
      "  new_df['tags']=new_df['tags'].apply(lambda x:' '.join(x))\n"
     ]
    }
   ],
   "source": [
    "new_df['tags']=new_df['tags'].apply(lambda x:' '.join(x))"
   ]
  },
  {
   "cell_type": "code",
   "execution_count": 24,
   "id": "de883da2",
   "metadata": {},
   "outputs": [
    {
     "name": "stderr",
     "output_type": "stream",
     "text": [
      "C:\\Users\\Harsh Sharma\\AppData\\Local\\Temp\\ipykernel_14180\\1897881435.py:1: SettingWithCopyWarning: \n",
      "A value is trying to be set on a copy of a slice from a DataFrame.\n",
      "Try using .loc[row_indexer,col_indexer] = value instead\n",
      "\n",
      "See the caveats in the documentation: https://pandas.pydata.org/pandas-docs/stable/user_guide/indexing.html#returning-a-view-versus-a-copy\n",
      "  new_df['tags']=new_df['tags'].apply(lambda x:x.lower())\n"
     ]
    },
    {
     "data": {
      "text/plain": [
       "'in the 22nd century, a paraplegic marine is dispatched to the moon pandora on a unique mission, but becomes torn between following orders and protecting an alien civilization. action adventure fantasy science_fiction culture_clash future space_war space_colony society space_travel futuristic romance space alien tribe alien_planet cgi marine soldier battle love_affair anti_war power_relations mind_and_soul 3d sam_worthington zoe_saldana sigourney_weaver james_cameron'"
      ]
     },
     "execution_count": 24,
     "metadata": {},
     "output_type": "execute_result"
    }
   ],
   "source": [
    "new_df['tags']=new_df['tags'].apply(lambda x:x.lower())\n",
    "new_df['tags'][0]"
   ]
  },
  {
   "cell_type": "code",
   "execution_count": 25,
   "id": "90890b5d",
   "metadata": {},
   "outputs": [],
   "source": [
    "from sklearn.feature_extraction.text import CountVectorizer\n",
    "cv = CountVectorizer(max_features=5000, stop_words='english')"
   ]
  },
  {
   "cell_type": "code",
   "execution_count": 26,
   "id": "f7be7e48",
   "metadata": {},
   "outputs": [
    {
     "data": {
      "text/plain": [
       "(4805, 5000)"
      ]
     },
     "execution_count": 26,
     "metadata": {},
     "output_type": "execute_result"
    }
   ],
   "source": [
    "cv.fit_transform(new_df['tags']).toarray().shape"
   ]
  },
  {
   "cell_type": "code",
   "execution_count": 27,
   "id": "8dd1ef4c",
   "metadata": {},
   "outputs": [
    {
     "data": {
      "text/plain": [
       "array([0, 0, 0, ..., 0, 0, 0], dtype=int64)"
      ]
     },
     "execution_count": 27,
     "metadata": {},
     "output_type": "execute_result"
    }
   ],
   "source": [
    "vectors = cv.fit_transform(new_df['tags']).toarray()\n",
    "vectors[0]"
   ]
  },
  {
   "cell_type": "code",
   "execution_count": 28,
   "id": "09b8778e",
   "metadata": {},
   "outputs": [
    {
     "data": {
      "text/plain": [
       "5000"
      ]
     },
     "execution_count": 28,
     "metadata": {},
     "output_type": "execute_result"
    }
   ],
   "source": [
    "len(cv.get_feature_names_out())"
   ]
  },
  {
   "cell_type": "code",
   "execution_count": 29,
   "id": "0a978802",
   "metadata": {
    "scrolled": false
   },
   "outputs": [],
   "source": [
    "import nltk"
   ]
  },
  {
   "cell_type": "code",
   "execution_count": 30,
   "id": "abfc9dc5",
   "metadata": {},
   "outputs": [],
   "source": [
    "from nltk.stem.porter import PorterStemmer\n",
    "ps = PorterStemmer()"
   ]
  },
  {
   "cell_type": "code",
   "execution_count": 31,
   "id": "84fe7920",
   "metadata": {},
   "outputs": [],
   "source": [
    "def stem(text):\n",
    "    y=[]\n",
    "    for i in text.split():\n",
    "        y.append(ps.stem(i))\n",
    "    return \" \".join(y)"
   ]
  },
  {
   "cell_type": "code",
   "execution_count": 32,
   "id": "443ea56b",
   "metadata": {},
   "outputs": [
    {
     "name": "stderr",
     "output_type": "stream",
     "text": [
      "C:\\Users\\Harsh Sharma\\AppData\\Local\\Temp\\ipykernel_14180\\3514595201.py:1: SettingWithCopyWarning: \n",
      "A value is trying to be set on a copy of a slice from a DataFrame.\n",
      "Try using .loc[row_indexer,col_indexer] = value instead\n",
      "\n",
      "See the caveats in the documentation: https://pandas.pydata.org/pandas-docs/stable/user_guide/indexing.html#returning-a-view-versus-a-copy\n",
      "  new_df['tags']=new_df['tags'].apply(stem)\n"
     ]
    }
   ],
   "source": [
    "new_df['tags']=new_df['tags'].apply(stem)"
   ]
  },
  {
   "cell_type": "code",
   "execution_count": 33,
   "id": "cad48f32",
   "metadata": {},
   "outputs": [],
   "source": [
    "from sklearn.feature_extraction.text import TfidfVectorizer\n",
    "from sklearn.metrics.pairwise import linear_kernel\n",
    "\n",
    "tfidf = TfidfVectorizer(stop_words='english')\n",
    "\n",
    "tfidf_matrix = tfidf.fit_transform(new_df['tags'])\n",
    "\n",
    "cosine_sim = linear_kernel(tfidf_matrix, tfidf_matrix)\n",
    "\n",
    "indices = pd.Series(new_df.index, index=new_df['title']).drop_duplicates()\n",
    "\n",
    "def recommend(title):\n",
    "    idx = indices[title]\n",
    "\n",
    "    sim_scores = list(enumerate(cosine_sim[idx]))\n",
    "\n",
    "    sim_scores = sorted(sim_scores, key=lambda x: x[1], reverse=True)\n",
    "\n",
    "    sim_scores = sim_scores[1:5]\n",
    "\n",
    "    movie_indices = [i[0] for i in sim_scores]\n",
    "\n",
    "    return new_df['title'].iloc[movie_indices]\n"
   ]
  },
  {
   "cell_type": "markdown",
   "id": "39332749",
   "metadata": {},
   "source": [
    "********************************************        ACT BELOW        **********************************************"
   ]
  },
  {
   "cell_type": "code",
   "execution_count": 34,
   "id": "a397eb49",
   "metadata": {
    "scrolled": false
   },
   "outputs": [
    {
     "name": "stdout",
     "output_type": "stream",
     "text": [
      "Iron Man 2\n",
      "Iron Man 3\n",
      "Avengers: Age of Ultron\n",
      "The Avengers\n"
     ]
    }
   ],
   "source": [
    "recommendations = recommend('Iron Man')\n",
    "for x in recommendations:\n",
    "    print(x)"
   ]
  },
  {
   "cell_type": "code",
   "execution_count": 35,
   "id": "a15809eb",
   "metadata": {},
   "outputs": [
    {
     "name": "stdout",
     "output_type": "stream",
     "text": [
      "{'Iron Man 2': 'https://encrypted-tbn0.gstatic.com/images?q=tbn:ANd9GcSLQnTurXUpA9SJll8p-kjO9h2Qaw2OOMhENMZTIKk91vFbJTn55o7pykjB8Q&s', 'Iron Man 3': 'https://encrypted-tbn0.gstatic.com/images?q=tbn:ANd9GcS6ZCT1aQq8lS2wg99npJF6WuZFQbGRjztRLSx3jRGSZZNBRlGSo0tmqPbRezE&s', 'Avengers: Age of Ultron': 'https://encrypted-tbn0.gstatic.com/images?q=tbn:ANd9GcRJlFGy4VxG5JwbkUBu2ao-O9935ZlKOYsQx23X1WPOBx9chn3sBaR_Abbeui4&s', 'The Avengers': 'https://encrypted-tbn0.gstatic.com/images?q=tbn:ANd9GcSn0Urlx4GSlLheiv8AMkcmK9TT6PmbrWGts4JLAHpkhEefmBAMxnTteh7MgPQ&s'}\n"
     ]
    }
   ],
   "source": [
    "import requests\n",
    "from bs4 import BeautifulSoup\n",
    "def urls(recommendations):\n",
    "    dd={}\n",
    "    lt=[]\n",
    "    for movie in recommendations:\n",
    "        url = f'https://www.google.com/search?q={movie}%20movie%20poster&tbm=isch'\n",
    "        response = requests.get(url)\n",
    "        soup = BeautifulSoup(response.text, 'html.parser')\n",
    "        img = soup.find_all(\"img\")\n",
    "        img_url = img[1]['src']\n",
    "        dd.update({movie:img_url})\n",
    "        lt.append(img_url)\n",
    "        #print(f'{movie}: {img_url}')\n",
    "    return lt\n",
    "url=urls(recommendations)\n",
    "#print(url)\n",
    "#print(lt)\n",
    "dd = {rec: p for rec, p in zip(recommendations, url)}\n",
    "print(dd)"
   ]
  },
  {
   "cell_type": "code",
   "execution_count": 44,
   "id": "e11e560b",
   "metadata": {},
   "outputs": [
    {
     "name": "stdout",
     "output_type": "stream",
     "text": [
      " * Serving Flask app '__main__'\n",
      " * Debug mode: off\n"
     ]
    },
    {
     "name": "stderr",
     "output_type": "stream",
     "text": [
      "WARNING: This is a development server. Do not use it in a production deployment. Use a production WSGI server instead.\n",
      " * Running on all addresses (0.0.0.0)\n",
      " * Running on http://127.0.0.1:5000\n",
      " * Running on http://192.168.2.3:5000\n",
      "Press CTRL+C to quit\n",
      "127.0.0.1 - - [30/Aug/2023 15:44:28] \"GET / HTTP/1.1\" 200 -\n",
      "127.0.0.1 - - [30/Aug/2023 15:44:28] \"GET /static/style/style.css HTTP/1.1\" 304 -\n",
      "127.0.0.1 - - [30/Aug/2023 15:44:28] \"GET /static/scripts/script.js HTTP/1.1\" 304 -\n",
      "127.0.0.1 - - [30/Aug/2023 15:44:28] \"GET /static/images/pirates%20of%20the%20caribbean%20-%20at%20worlds%20end.jpg HTTP/1.1\" 304 -\n",
      "127.0.0.1 - - [30/Aug/2023 15:44:28] \"GET /static/images/avatar.jpeg HTTP/1.1\" 304 -\n",
      "127.0.0.1 - - [30/Aug/2023 15:44:28] \"GET /static/images/spider-man.jpeg HTTP/1.1\" 304 -\n",
      "127.0.0.1 - - [30/Aug/2023 15:44:28] \"GET /static/images/tangled.jpg HTTP/1.1\" 304 -\n",
      "127.0.0.1 - - [30/Aug/2023 15:44:28] \"GET /static/images/background.jpeg HTTP/1.1\" 304 -\n",
      "127.0.0.1 - - [30/Aug/2023 15:44:35] \"POST /data HTTP/1.1\" 200 -\n",
      "127.0.0.1 - - [30/Aug/2023 15:44:35] \"GET /static/style/style.css HTTP/1.1\" 304 -\n",
      "127.0.0.1 - - [30/Aug/2023 15:44:35] \"GET /static/scripts/script.js HTTP/1.1\" 304 -\n",
      "127.0.0.1 - - [30/Aug/2023 15:44:35] \"GET /static/images/background.jpeg HTTP/1.1\" 304 -\n",
      "127.0.0.1 - - [30/Aug/2023 15:44:51] \"POST /data HTTP/1.1\" 200 -\n",
      "127.0.0.1 - - [30/Aug/2023 15:44:51] \"GET /static/style/style.css HTTP/1.1\" 304 -\n",
      "127.0.0.1 - - [30/Aug/2023 15:44:51] \"GET /static/scripts/script.js HTTP/1.1\" 304 -\n",
      "127.0.0.1 - - [30/Aug/2023 15:44:51] \"GET /static/images/background.jpeg HTTP/1.1\" 304 -\n"
     ]
    }
   ],
   "source": [
    "from flask import Flask, request, render_template, jsonify, flash\n",
    "app=Flask(__name__)\n",
    "\n",
    "@app.route('/', methods=['POST','GET'])\n",
    "def main():\n",
    "    if request.method == 'POST':\n",
    "        title = request.form['inputTitle']\n",
    "        recommendations = recommend(title)\n",
    "        pic = urls(recommendations)\n",
    "    return render_template(\"mpg.html\")\n",
    "\n",
    "@app.route('/data', methods=['POST','GET'])\n",
    "def recommended():\n",
    "    if request.method == 'POST':\n",
    "        title = request.form['inputTitle']\n",
    "        recommendations = recommend(title)\n",
    "        pic = urls(recommendations)\n",
    "        dd = {rec: p for rec, p in zip(recommendations, pic)}\n",
    "        return render_template(\"mpg.html\", data=dd,title=title)\n",
    "    #else:\n",
    "        #return jsonify({error:'method not supported'})\n",
    "\n",
    "app.run(host=\"0.0.0.0\")"
   ]
  },
  {
   "cell_type": "code",
   "execution_count": null,
   "id": "12acb9eb",
   "metadata": {},
   "outputs": [],
   "source": []
  }
 ],
 "metadata": {
  "kernelspec": {
   "display_name": "Python 3 (ipykernel)",
   "language": "python",
   "name": "python3"
  },
  "language_info": {
   "codemirror_mode": {
    "name": "ipython",
    "version": 3
   },
   "file_extension": ".py",
   "mimetype": "text/x-python",
   "name": "python",
   "nbconvert_exporter": "python",
   "pygments_lexer": "ipython3",
   "version": "3.10.9"
  }
 },
 "nbformat": 4,
 "nbformat_minor": 5
}
