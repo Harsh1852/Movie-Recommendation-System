{
 "cells": [
  {
   "cell_type": "code",
   "execution_count": 1,
   "id": "57c40748",
   "metadata": {},
   "outputs": [],
   "source": [
    "import pandas as pd\n",
    "import requests\n",
    "from bs4 import BeautifulSoup"
   ]
  },
  {
   "cell_type": "code",
   "execution_count": 2,
   "id": "87efe291",
   "metadata": {},
   "outputs": [
    {
     "name": "stdout",
     "output_type": "stream",
     "text": [
      "                                         title\n",
      "0                                       Avatar\n",
      "1     Pirates of the Caribbean: At World's End\n",
      "2                                      Spectre\n",
      "3                        The Dark Knight Rises\n",
      "4                                  John Carter\n",
      "...                                        ...\n",
      "4798                               El Mariachi\n",
      "4799                                 Newlyweds\n",
      "4800                 Signed, Sealed, Delivered\n",
      "4801                          Shanghai Calling\n",
      "4802                         My Date with Drew\n",
      "\n",
      "[4803 rows x 1 columns]\n"
     ]
    }
   ],
   "source": [
    "movies= pd.read_csv('movies - Copy.csv')\n",
    "print(movies)"
   ]
  },
  {
   "cell_type": "code",
   "execution_count": null,
   "id": "ab6c0648",
   "metadata": {},
   "outputs": [],
   "source": [
    "for movie in movies:\n",
    "    url = \"https://www.google.com/search?q={movie}%20movie%20poster&tbm=isch\"\n",
    "    response = requests.get(url)\n",
    "    soup = BeautifulSoup(response.text, 'html.parser')\n",
    "    "
   ]
  }
 ],
 "metadata": {
  "kernelspec": {
   "display_name": "Python 3 (ipykernel)",
   "language": "python",
   "name": "python3"
  },
  "language_info": {
   "codemirror_mode": {
    "name": "ipython",
    "version": 3
   },
   "file_extension": ".py",
   "mimetype": "text/x-python",
   "name": "python",
   "nbconvert_exporter": "python",
   "pygments_lexer": "ipython3",
   "version": "3.10.9"
  }
 },
 "nbformat": 4,
 "nbformat_minor": 5
}
